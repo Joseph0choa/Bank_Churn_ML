{
 "cells": [
  {
   "cell_type": "code",
   "execution_count": null,
   "id": "3764f101",
   "metadata": {},
   "outputs": [],
   "source": [
    "import pandas as pd\n",
    "import numpy as np\n",
    "from sklearn.preprocessing import OneHotEncoder\n",
    "\n",
    "df = pd.read_csv(\"/home/ander/Documentos/Universidad/ML/proyecto/train_processed.csv\")\n",
    "\n",
    "def one_hot_encode_categorical(df, column):\n",
    "    encoder = OneHotEncoder(sparse_output=False, handle_unknown='ignore')\n",
    "    encoded_column = encoder.fit_transform(df[[column]])    \n",
    "    encoded_df = pd.DataFrame(encoded_column, columns=encoder.get_feature_names_out([column]))\n",
    "    df = pd.concat([df, encoded_df], axis=1)\n",
    "    df = df.drop(column, axis=1)\n",
    "    return df, encoder\n",
    "\n",
    "categorical_columns = ['Geography']\n",
    "df = df.copy()  \n",
    "\n",
    "encoders = {}\n",
    "for column in categorical_columns:\n",
    "    df, enconder = one_hot_encode_categorical(df, column)\n",
    "    encoders[column] = enconder\n",
    "    \n",
    "df['Gender'] = df['Gender'].map({'Male': 0, 'Female': 1})\n"
   ]
  },
  {
   "cell_type": "code",
   "execution_count": null,
   "id": "ab696f98",
   "metadata": {},
   "outputs": [],
   "source": [
    "from sklearn.model_selection import train_test_split\n",
    "import matplotlib.pyplot as plt\n",
    "import seaborn as sns\n",
    "\n",
    "X = df.drop(columns=[\"Exited\"])\n",
    "y = df[\"Exited\"]\n",
    "X_train, X_test, y_train, y_test = train_test_split(X, y, test_size=0.2, random_state=42)\n",
    "\n"
   ]
  },
  {
   "cell_type": "code",
   "execution_count": null,
   "id": "5277bfb9",
   "metadata": {},
   "outputs": [],
   "source": [
    "from tpot import TPOTClassifier\n",
    "import os\n",
    "\n",
    "\n",
    "os.environ['OMP_NUM_THREADS'] = '1'\n",
    "os.environ['OPENBLAS_NUM_THREADS'] = '1'\n",
    "os.environ['MKL_NUM_THREADS'] = '1'\n",
    "os.environ['VECLIB_MAXIMUM_THREADS'] = '1'\n",
    "os.environ['NUMEXPR_NUM_THREADS'] = '1'\n",
    "\n",
    "\n",
    "model = TPOTClassifier(\n",
    "    generations=60,\n",
    "    population_size=20,\n",
    "    random_state=52,\n",
    "    verbose=2,\n",
    "    n_jobs=8,\n",
    "    cv=5,\n",
    "    max_time_mins=30,\n",
    ")\n",
    "model.fit(X_train, y_train)\n",
    "\n"
   ]
  },
  {
   "cell_type": "code",
   "execution_count": null,
   "id": "3d6a4ac4",
   "metadata": {},
   "outputs": [],
   "source": [
    "print(\"Best pipeline:\", model.fitted_pipeline_)"
   ]
  },
  {
   "cell_type": "code",
   "execution_count": null,
   "id": "98912037",
   "metadata": {},
   "outputs": [],
   "source": [
    "from sklearn.metrics import accuracy_score, classification_report, confusion_matrix, roc_auc_score\n",
    "\n",
    "y_pred = model.predict(X_test)\n",
    "\n",
    "print(\"Accuracy:\", accuracy_score(y_test, y_pred))\n",
    "print(\"Classification Report:\\n\", classification_report(y_test, y_pred))\n",
    "print(\"Confusion Matrix:\\n\", confusion_matrix(y_test, y_pred))\n",
    "print(\"ROC AUC Score:\", roc_auc_score(y_test, model.predict_proba(X_test)[:, 1]))"
   ]
  },
  {
   "cell_type": "code",
   "execution_count": null,
   "id": "43978f43",
   "metadata": {},
   "outputs": [],
   "source": [
    "from sklearn.metrics import roc_curve, auc\n",
    "import matplotlib.pyplot as plt\n",
    "\n",
    "y_pred_proba = model.predict_proba(X_test)[:, 1]\n",
    "fpr, tpr, thresholds = roc_curve(y_test, y_pred_proba)\n",
    "roc_auc = auc(fpr, tpr)\n",
    "\n",
    "from sklearn.metrics import roc_curve, auc\n",
    "import pandas as pd\n",
    "\n",
    "# Ejemplo para un modelo (ajusta el nombre y el modelo según corresponda)\n",
    "y_pred_proba = model.predict_proba(X_test)[:, 1]\n",
    "fpr, tpr, thresholds = roc_curve(y_test, y_pred_proba)\n",
    "roc_auc = auc(fpr, tpr)\n",
    "\n",
    "# Guardar en CSV\n",
    "roc_df = pd.DataFrame({'fpr': fpr, 'tpr': tpr, 'thresholds': thresholds})\n",
    "roc_df['auc'] = roc_auc\n",
    "roc_df.to_csv('roc_modelo.csv', index=False)\n",
    "\n",
    "plt.figure(figsize=(8, 6))\n",
    "plt.plot(fpr, tpr, color='darkorange', lw=2, label=f'ROC curve (area = {roc_auc:.5f})')\n",
    "plt.plot([0, 1], [0, 1], color='navy', lw=2, linestyle='--')\n",
    "plt.xlim([0.0, 1.0])\n",
    "plt.ylim([0.0, 1.05])\n",
    "plt.xlabel('False Positive Rate')\n",
    "plt.ylabel('True Positive Rate')\n",
    "plt.title('Receiver Operating Characteristic (ROC) - TPOT Model')\n",
    "plt.legend(loc='lower right')\n",
    "plt.grid(True)\n",
    "plt.show()"
   ]
  },
  {
   "cell_type": "code",
   "execution_count": null,
   "id": "83b82e2c",
   "metadata": {},
   "outputs": [],
   "source": [
    "#Submit predictions\n",
    "\n",
    "test = pd.read_csv(\"/home/cristian/courses/machine_learning_UNAL/customer_churn_prediction/data/raw/test.csv\")\n",
    "test1 = test.drop(columns=[\"Surname\", \"id\", \"CustomerId\"])\n",
    "\n",
    "test_encoded = test1.copy()\n",
    "for column in categorical_columns:\n",
    "    one = encoders[column]\n",
    "    encoded = one.transform(test_encoded[[column]])\n",
    "    encoded_df = pd.DataFrame(encoded, columns=one.get_feature_names_out([column]), index=test_encoded.index)\n",
    "    test_encoded = pd.concat([test_encoded.drop(column, axis=1), encoded_df], axis=1)\n",
    "\n",
    "# Gender column\n",
    "test_encoded['Gender'] = test_encoded['Gender'].map({'Male': 0, 'Female': 1})\n",
    "predictions = model.predict_proba(test_encoded)[:, 1]  \n",
    "\n",
    "submission = pd.DataFrame({\n",
    "    'id': test['id'],\n",
    "    'Exited': predictions\n",
    "})\n",
    "\n",
    "submission.to_csv(\"submission_tpot2.csv\", index=False)\n",
    "print(\"Submission saved to tpot_submission.csv\")\n"
   ]
  },
  {
   "cell_type": "code",
   "execution_count": null,
   "id": "c420ba76",
   "metadata": {},
   "outputs": [],
   "source": [
    "model.export('tpot_best_pipeline.py')"
   ]
  }
 ],
 "metadata": {
  "kernelspec": {
   "display_name": "ML",
   "language": "python",
   "name": "python3"
  },
  "language_info": {
   "codemirror_mode": {
    "name": "ipython",
    "version": 3
   },
   "file_extension": ".py",
   "mimetype": "text/x-python",
   "name": "python",
   "nbconvert_exporter": "python",
   "pygments_lexer": "ipython3",
   "version": "3.12.9"
  }
 },
 "nbformat": 4,
 "nbformat_minor": 5
}
